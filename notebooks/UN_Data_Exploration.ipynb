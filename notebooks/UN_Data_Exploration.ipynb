{
 "cells": [
  {
   "cell_type": "markdown",
   "id": "76516802-2543-4af8-b115-8ab6ff9d1d6d",
   "metadata": {},
   "source": [
    "## UN Data Exploration"
   ]
  },
  {
   "cell_type": "markdown",
   "id": "1b2f5075-8dc8-40b2-8509-161fc01aceb2",
   "metadata": {},
   "source": [
    "#### Q1. Download the Gross Domestic Product (GDP) per capita dataset from http://data.un.org/Data.aspx?d=WDI&f=Indicator_Code%3aNY.GDP.PCAP.PP.KD. Rename it to gdp_per_capita.csv and place it in the data folder of your project repository."
   ]
  },
  {
   "cell_type": "markdown",
   "id": "e0a64ee8-4574-41d0-bdfc-81b93f46021a",
   "metadata": {},
   "source": [
    "#### Q2. Create a Jupyter Notebook in the notebooks folder and name it UN_Data_Exploration."
   ]
  },
  {
   "cell_type": "markdown",
   "id": "1914b0b4-64ba-4d98-8948-4042bc645ea1",
   "metadata": {},
   "source": [
    "#### Q3. In the first cell of your notebook, import the required packages with their customary aliases as follows:"
   ]
  },
  {
   "cell_type": "code",
   "execution_count": 1,
   "id": "e13f9273-f3da-4510-9507-57dcd53184c5",
   "metadata": {},
   "outputs": [],
   "source": [
    "import pandas as pd\n",
    "import numpy as np\n",
    "import matplotlib.pyplot as plt\n",
    "import seaborn as sns"
   ]
  },
  {
   "cell_type": "markdown",
   "id": "ed9781d6-fa0a-4534-9e88-84ae05d2cb22",
   "metadata": {},
   "source": [
    "#### Q4. Using the pandas read_csv() function, read the GDP dataset into your notebook as a DataFrame called gdp_df. After reading it in, inspect the first 10 rows and then inspect the last 10 rows"
   ]
  },
  {
   "cell_type": "code",
   "execution_count": 2,
   "id": "708e555d-9a1c-4702-ad43-25a54c9c02a8",
   "metadata": {},
   "outputs": [],
   "source": [
    "gdp_df = pd.read_csv('../data/gdp_per_capita.csv')"
   ]
  },
  {
   "cell_type": "code",
   "execution_count": null,
   "id": "123608a2-ec62-4c8c-a94c-ad109e115952",
   "metadata": {},
   "outputs": [],
   "source": [
    "gdp_df.head(10)"
   ]
  },
  {
   "cell_type": "code",
   "execution_count": null,
   "id": "f9ac050c-617a-49aa-9114-76574f230449",
   "metadata": {},
   "outputs": [],
   "source": [
    "gdp_df.tail(10)"
   ]
  },
  {
   "cell_type": "markdown",
   "id": "d86960e4-ecff-4a04-883b-93bf855e39b2",
   "metadata": {},
   "source": [
    "#### Q5. Drop the 'Value Footnotes' column, and rename the remaining columns to 'Country', 'Year', and 'GDP_Per_Capita'."
   ]
  },
  {
   "cell_type": "code",
   "execution_count": 5,
   "id": "b359d2f1-028e-4ff8-9f74-7e9972a2230d",
   "metadata": {},
   "outputs": [],
   "source": [
    "gdp_df = (\n",
    "    gdp_df\n",
    "    .drop(columns=['Value Footnotes'])\n",
    "    .rename(columns={\"Country or Area\": \"Country\", \"Value\": \"GDP_Per_Capita\"})\n",
    ")"
   ]
  },
  {
   "cell_type": "markdown",
   "id": "c181a47c-0ba7-4185-8362-a7fdb68608ec",
   "metadata": {},
   "source": [
    "#### Q6. How many rows and columns does gdp_df have? What are the data types of its columns? If any of the columns are not the expected types, figure out why and fix it."
   ]
  },
  {
   "cell_type": "code",
   "execution_count": 7,
   "id": "b901fe5c-0b94-440f-a6ce-e48b581266a1",
   "metadata": {},
   "outputs": [
    {
     "name": "stdout",
     "output_type": "stream",
     "text": [
      "The DataFrame has 7662 rows and 3 columns\n"
     ]
    }
   ],
   "source": [
    "print(f'The DataFrame has {gdp_df.shape[0]} rows and {gdp_df.shape[1]} columns')"
   ]
  },
  {
   "cell_type": "code",
   "execution_count": null,
   "id": "2a9f8d83-c831-42e1-9600-40be39610fc8",
   "metadata": {},
   "outputs": [],
   "source": [
    "gdp_df.dtypes"
   ]
  },
  {
   "cell_type": "markdown",
   "id": "f2e79780-631d-48dd-b7bf-a9cba84a36ea",
   "metadata": {},
   "source": [
    "#### Q7. Which years are represented in this dataset? Take a look at the number of observations per year. What do you notice?"
   ]
  },
  {
   "cell_type": "markdown",
   "id": "e735808d-bf6c-4828-96ba-ed31e75e82f4",
   "metadata": {},
   "source": [
    "1990 - 2022  \n",
    "The number of observations per year seems to gradually increase over time."
   ]
  },
  {
   "cell_type": "code",
   "execution_count": null,
   "id": "34407023-1d7d-46a2-979d-17507c32af1e",
   "metadata": {},
   "outputs": [],
   "source": [
    "gdp_df['Year'].value_counts().sort_index(ascending=False)"
   ]
  },
  {
   "cell_type": "markdown",
   "id": "faa9db01-0272-421c-ae8e-4684fb195549",
   "metadata": {},
   "source": [
    "#### Q8. How many countries are represented in this dataset? Which countries are least represented in the dataset? Why do you think these countries have so few observations?"
   ]
  },
  {
   "cell_type": "code",
   "execution_count": 10,
   "id": "2dcbe3e2-1d70-435a-80d5-566409d30e5e",
   "metadata": {},
   "outputs": [
    {
     "name": "stdout",
     "output_type": "stream",
     "text": [
      "There are 242 countries/regions represented in the data set.\n"
     ]
    }
   ],
   "source": [
    "print(f'There are {gdp_df['Country'].nunique()} countries/regions represented in the data set.')"
   ]
  },
  {
   "cell_type": "markdown",
   "id": "021d8122-e642-45da-bb77-4364e5362890",
   "metadata": {},
   "source": [
    "Djibouti and Somalia have the fewest entries; they didn't start reporting or tracking until 2013."
   ]
  },
  {
   "cell_type": "code",
   "execution_count": null,
   "id": "3a7777df-1b55-483d-8920-2bacda3718de",
   "metadata": {},
   "outputs": [],
   "source": [
    "gdp_df['Country'].value_counts().tail(2)"
   ]
  },
  {
   "cell_type": "markdown",
   "id": "c3ea9078-a9cb-43cb-b5e2-b08092c4a0fd",
   "metadata": {},
   "source": [
    "#### Q9. Create a new dataframe by subsetting gdp_df to just the year 2021. Call this new dataframe gdp_2021"
   ]
  },
  {
   "cell_type": "code",
   "execution_count": 12,
   "id": "22ea2968-a298-4ebd-94ee-13db152ecad7",
   "metadata": {},
   "outputs": [],
   "source": [
    "gdp_2021 = gdp_df[gdp_df['Year'] == 2021]"
   ]
  },
  {
   "cell_type": "markdown",
   "id": "798b27cf-2fae-4c94-b71d-452dec57915d",
   "metadata": {},
   "source": [
    "#### Q10. Use .describe() to find the summary statistics for GDP per capita in 2021."
   ]
  },
  {
   "cell_type": "code",
   "execution_count": 14,
   "id": "1cfa1dbf-edf2-4887-85ec-611b7a0825d1",
   "metadata": {},
   "outputs": [
    {
     "data": {
      "text/plain": [
       "count       241.000000\n",
       "mean      20711.570080\n",
       "std       20916.978968\n",
       "min         714.066712\n",
       "25%        5044.196028\n",
       "50%       13754.802423\n",
       "75%       30974.370692\n",
       "max      115683.493708\n",
       "Name: GDP_Per_Capita, dtype: float64"
      ]
     },
     "execution_count": 14,
     "metadata": {},
     "output_type": "execute_result"
    }
   ],
   "source": [
    "gdp_2021['GDP_Per_Capita'].describe()"
   ]
  },
  {
   "cell_type": "markdown",
   "id": "9a95d522-dbcc-4340-924a-3d063d32e86c",
   "metadata": {},
   "source": [
    "#### Q11. Create a histogram of GDP Per Capita numbers for 2021 (you may wish to adjust the number of bins for your histogram). How would you describe the shape of the distribution?"
   ]
  },
  {
   "cell_type": "markdown",
   "id": "2304f5fd-3130-4a29-9540-4c6f314d5233",
   "metadata": {},
   "source": [
    "The distribution is heavily right-skewed, with most countries/regions at or below a GDP per Capita of 20K."
   ]
  },
  {
   "cell_type": "code",
   "execution_count": 16,
   "id": "6aefd446-898b-4b98-93e0-0f598f162b02",
   "metadata": {},
   "outputs": [
    {
     "data": {
      "image/png": "[encoded data removed]",
      "text/plain": [
       "<Figure size 1000x600 with 1 Axes>"
      ]
     },
     "metadata": {},
     "output_type": "display_data"
    }
   ],
   "source": [
    "fig,ax = plt.subplots(figsize = (10,6))\n",
    "plt.hist(\n",
    "    data=gdp_2021,\n",
    "    x='GDP_Per_Capita',\n",
    "    edgecolor='Black',\n",
    "    linewidth=2,\n",
    "    bins = 15\n",
    "    );\n",
    "plt.xlabel('GDP Per Capita')                            \n",
    "plt.ylabel('Number of Countries')\n",
    "plt.title('Distribution of Global GDP Per Capita for 2021');"
   ]
  },
  {
   "cell_type": "markdown",
   "id": "c6e91e36-bd8e-440c-936c-5a689aa99d98",
   "metadata": {},
   "source": [
    "#### Q12. Find the top 5 countries and bottom 5 countries by GDP per capita in 2021."
   ]
  },
  {
   "cell_type": "code",
   "execution_count": 18,
   "id": "7e966bfe-ff10-4f27-9dd6-12f3d428b7f7",
   "metadata": {},
   "outputs": [
    {
     "data": {
      "text/html": [
       "<div>\n",
       "<style scoped>\n",
       "    .dataframe tbody tr th:only-of-type {\n",
       "        vertical-align: middle;\n",
       "    }\n",
       "\n",
       "    .dataframe tbody tr th {\n",
       "        vertical-align: top;\n",
       "    }\n",
       "\n",
       "    .dataframe thead th {\n",
       "        text-align: right;\n",
       "    }\n",
       "</style>\n",
       "<table border=\"1\" class=\"dataframe\">\n",
       "  <thead>\n",
       "    <tr style=\"text-align: right;\">\n",
       "      <th></th>\n",
       "      <th>Country</th>\n",
       "      <th>Year</th>\n",
       "      <th>GDP_Per_Capita</th>\n",
       "    </tr>\n",
       "  </thead>\n",
       "  <tbody>\n",
       "    <tr>\n",
       "      <th>4147</th>\n",
       "      <td>Luxembourg</td>\n",
       "      <td>2021</td>\n",
       "      <td>115683.493708</td>\n",
       "    </tr>\n",
       "    <tr>\n",
       "      <th>6107</th>\n",
       "      <td>Singapore</td>\n",
       "      <td>2021</td>\n",
       "      <td>107741.118436</td>\n",
       "    </tr>\n",
       "    <tr>\n",
       "      <th>3278</th>\n",
       "      <td>Ireland</td>\n",
       "      <td>2021</td>\n",
       "      <td>102785.490239</td>\n",
       "    </tr>\n",
       "    <tr>\n",
       "      <th>5745</th>\n",
       "      <td>Qatar</td>\n",
       "      <td>2021</td>\n",
       "      <td>92862.571798</td>\n",
       "    </tr>\n",
       "    <tr>\n",
       "      <th>680</th>\n",
       "      <td>Bermuda</td>\n",
       "      <td>2021</td>\n",
       "      <td>78570.489515</td>\n",
       "    </tr>\n",
       "    <tr>\n",
       "      <th>...</th>\n",
       "      <td>...</td>\n",
       "      <td>...</td>\n",
       "      <td>...</td>\n",
       "    </tr>\n",
       "    <tr>\n",
       "      <th>5073</th>\n",
       "      <td>Niger</td>\n",
       "      <td>2021</td>\n",
       "      <td>1186.576809</td>\n",
       "    </tr>\n",
       "    <tr>\n",
       "      <th>6272</th>\n",
       "      <td>Somalia</td>\n",
       "      <td>2021</td>\n",
       "      <td>1136.735989</td>\n",
       "    </tr>\n",
       "    <tr>\n",
       "      <th>1629</th>\n",
       "      <td>Dem. Rep. Congo</td>\n",
       "      <td>2021</td>\n",
       "      <td>1073.643271</td>\n",
       "    </tr>\n",
       "    <tr>\n",
       "      <th>1216</th>\n",
       "      <td>Central African Republic</td>\n",
       "      <td>2021</td>\n",
       "      <td>837.504686</td>\n",
       "    </tr>\n",
       "    <tr>\n",
       "      <th>972</th>\n",
       "      <td>Burundi</td>\n",
       "      <td>2021</td>\n",
       "      <td>714.066712</td>\n",
       "    </tr>\n",
       "  </tbody>\n",
       "</table>\n",
       "<p>241 rows × 3 columns</p>\n",
       "</div>"
      ],
      "text/plain": [
       "                       Country  Year  GDP_Per_Capita\n",
       "4147                Luxembourg  2021   115683.493708\n",
       "6107                 Singapore  2021   107741.118436\n",
       "3278                   Ireland  2021   102785.490239\n",
       "5745                     Qatar  2021    92862.571798\n",
       "680                    Bermuda  2021    78570.489515\n",
       "...                        ...   ...             ...\n",
       "5073                     Niger  2021     1186.576809\n",
       "6272                   Somalia  2021     1136.735989\n",
       "1629           Dem. Rep. Congo  2021     1073.643271\n",
       "1216  Central African Republic  2021      837.504686\n",
       "972                    Burundi  2021      714.066712\n",
       "\n",
       "[241 rows x 3 columns]"
      ]
     },
     "execution_count": 18,
     "metadata": {},
     "output_type": "execute_result"
    }
   ],
   "source": [
    "gdp_2021.sort_values('GDP_Per_Capita', ascending = False)"
   ]
  },
  {
   "cell_type": "markdown",
   "id": "621f8115-e68d-4672-8b25-f7653ddf3530",
   "metadata": {},
   "source": [
    "#### Q13. Now, return to the full dataset, gdp_df. Pivot the data for 1990 and 2021 (using the pandas .pivot_table() method or another method) so that each row corresponds to a country, each column corresponds to a year, and the values in the table give the GDP_Per_Capita amount. Drop any rows that are missing values for either 1990 or 2021. Save the result to a dataframe named gdp_pivoted."
   ]
  },
  {
   "cell_type": "code",
   "execution_count": 20,
   "id": "33a1b4f1-9237-40a2-bf40-1222e9bcb8cd",
   "metadata": {},
   "outputs": [
    {
     "data": {
      "text/html": [
       "<div>\n",
       "<style scoped>\n",
       "    .dataframe tbody tr th:only-of-type {\n",
       "        vertical-align: middle;\n",
       "    }\n",
       "\n",
       "    .dataframe tbody tr th {\n",
       "        vertical-align: top;\n",
       "    }\n",
       "\n",
       "    .dataframe thead th {\n",
       "        text-align: right;\n",
       "    }\n",
       "</style>\n",
       "<table border=\"1\" class=\"dataframe\">\n",
       "  <thead>\n",
       "    <tr style=\"text-align: right;\">\n",
       "      <th>Year</th>\n",
       "      <th>1990</th>\n",
       "      <th>2001</th>\n",
       "    </tr>\n",
       "    <tr>\n",
       "      <th>Country</th>\n",
       "      <th></th>\n",
       "      <th></th>\n",
       "    </tr>\n",
       "  </thead>\n",
       "  <tbody>\n",
       "    <tr>\n",
       "      <th>Africa Eastern and Southern</th>\n",
       "      <td>3037.297466</td>\n",
       "      <td>2928.062946</td>\n",
       "    </tr>\n",
       "    <tr>\n",
       "      <th>Africa Western and Central</th>\n",
       "      <td>2788.301039</td>\n",
       "      <td>2734.257633</td>\n",
       "    </tr>\n",
       "    <tr>\n",
       "      <th>Albania</th>\n",
       "      <td>4827.027705</td>\n",
       "      <td>6441.440698</td>\n",
       "    </tr>\n",
       "    <tr>\n",
       "      <th>Algeria</th>\n",
       "      <td>8828.874473</td>\n",
       "      <td>8926.110134</td>\n",
       "    </tr>\n",
       "    <tr>\n",
       "      <th>Angola</th>\n",
       "      <td>5793.084512</td>\n",
       "      <td>4768.008894</td>\n",
       "    </tr>\n",
       "    <tr>\n",
       "      <th>...</th>\n",
       "      <td>...</td>\n",
       "      <td>...</td>\n",
       "    </tr>\n",
       "    <tr>\n",
       "      <th>Vanuatu</th>\n",
       "      <td>2774.138350</td>\n",
       "      <td>2782.053642</td>\n",
       "    </tr>\n",
       "    <tr>\n",
       "      <th>Viet Nam</th>\n",
       "      <td>2099.394649</td>\n",
       "      <td>3879.338958</td>\n",
       "    </tr>\n",
       "    <tr>\n",
       "      <th>World</th>\n",
       "      <td>9705.981267</td>\n",
       "      <td>11221.662910</td>\n",
       "    </tr>\n",
       "    <tr>\n",
       "      <th>Zambia</th>\n",
       "      <td>2290.039226</td>\n",
       "      <td>2142.787524</td>\n",
       "    </tr>\n",
       "    <tr>\n",
       "      <th>Zimbabwe</th>\n",
       "      <td>2704.757299</td>\n",
       "      <td>2772.325234</td>\n",
       "    </tr>\n",
       "  </tbody>\n",
       "</table>\n",
       "<p>207 rows × 2 columns</p>\n",
       "</div>"
      ],
      "text/plain": [
       "Year                                1990          2001\n",
       "Country                                               \n",
       "Africa Eastern and Southern  3037.297466   2928.062946\n",
       "Africa Western and Central   2788.301039   2734.257633\n",
       "Albania                      4827.027705   6441.440698\n",
       "Algeria                      8828.874473   8926.110134\n",
       "Angola                       5793.084512   4768.008894\n",
       "...                                  ...           ...\n",
       "Vanuatu                      2774.138350   2782.053642\n",
       "Viet Nam                     2099.394649   3879.338958\n",
       "World                        9705.981267  11221.662910\n",
       "Zambia                       2290.039226   2142.787524\n",
       "Zimbabwe                     2704.757299   2772.325234\n",
       "\n",
       "[207 rows x 2 columns]"
      ]
     },
     "execution_count": 20,
     "metadata": {},
     "output_type": "execute_result"
    }
   ],
   "source": [
    "gdp_pivoted = (\n",
    "    gdp_df\n",
    "    [gdp_df['Year'].isin([1990, 2001])]\n",
    "    .pivot_table(index='Country', values='GDP_Per_Capita', columns='Year')\n",
    "    .dropna()\n",
    ")"
   ]
  },
  {
   "cell_type": "markdown",
   "id": "6671b5db-1cf8-471a-8b47-7502e9e538d9",
   "metadata": {},
   "source": [
    "#### Q14. Create a new column in gdp_pivoted named Percent_Change. This column should contain the percent change in GDP_Per_Capita from 1990 to 2021. Hint: Percent change is calculated as 100*(New Value - Old Value) / Old Value."
   ]
  },
  {
   "cell_type": "code",
   "execution_count": 24,
   "id": "4fd052aa-59e9-40f1-b7c6-bad4c984c992",
   "metadata": {},
   "outputs": [
    {
     "data": {
      "text/html": [
       "<div>\n",
       "<style scoped>\n",
       "    .dataframe tbody tr th:only-of-type {\n",
       "        vertical-align: middle;\n",
       "    }\n",
       "\n",
       "    .dataframe tbody tr th {\n",
       "        vertical-align: top;\n",
       "    }\n",
       "\n",
       "    .dataframe thead th {\n",
       "        text-align: right;\n",
       "    }\n",
       "</style>\n",
       "<table border=\"1\" class=\"dataframe\">\n",
       "  <thead>\n",
       "    <tr style=\"text-align: right;\">\n",
       "      <th>Year</th>\n",
       "      <th>1990</th>\n",
       "      <th>2001</th>\n",
       "      <th>Percent_Change</th>\n",
       "    </tr>\n",
       "    <tr>\n",
       "      <th>Country</th>\n",
       "      <th></th>\n",
       "      <th></th>\n",
       "      <th></th>\n",
       "    </tr>\n",
       "  </thead>\n",
       "  <tbody>\n",
       "    <tr>\n",
       "      <th>Africa Eastern and Southern</th>\n",
       "      <td>3037.297466</td>\n",
       "      <td>2928.062946</td>\n",
       "      <td>-3.596438</td>\n",
       "    </tr>\n",
       "    <tr>\n",
       "      <th>Africa Western and Central</th>\n",
       "      <td>2788.301039</td>\n",
       "      <td>2734.257633</td>\n",
       "      <td>-1.938220</td>\n",
       "    </tr>\n",
       "    <tr>\n",
       "      <th>Albania</th>\n",
       "      <td>4827.027705</td>\n",
       "      <td>6441.440698</td>\n",
       "      <td>33.445281</td>\n",
       "    </tr>\n",
       "    <tr>\n",
       "      <th>Algeria</th>\n",
       "      <td>8828.874473</td>\n",
       "      <td>8926.110134</td>\n",
       "      <td>1.101337</td>\n",
       "    </tr>\n",
       "    <tr>\n",
       "      <th>Angola</th>\n",
       "      <td>5793.084512</td>\n",
       "      <td>4768.008894</td>\n",
       "      <td>-17.694816</td>\n",
       "    </tr>\n",
       "    <tr>\n",
       "      <th>...</th>\n",
       "      <td>...</td>\n",
       "      <td>...</td>\n",
       "      <td>...</td>\n",
       "    </tr>\n",
       "    <tr>\n",
       "      <th>Vanuatu</th>\n",
       "      <td>2774.138350</td>\n",
       "      <td>2782.053642</td>\n",
       "      <td>0.285324</td>\n",
       "    </tr>\n",
       "    <tr>\n",
       "      <th>Viet Nam</th>\n",
       "      <td>2099.394649</td>\n",
       "      <td>3879.338958</td>\n",
       "      <td>84.783693</td>\n",
       "    </tr>\n",
       "    <tr>\n",
       "      <th>World</th>\n",
       "      <td>9705.981267</td>\n",
       "      <td>11221.662910</td>\n",
       "      <td>15.615955</td>\n",
       "    </tr>\n",
       "    <tr>\n",
       "      <th>Zambia</th>\n",
       "      <td>2290.039226</td>\n",
       "      <td>2142.787524</td>\n",
       "      <td>-6.430095</td>\n",
       "    </tr>\n",
       "    <tr>\n",
       "      <th>Zimbabwe</th>\n",
       "      <td>2704.757299</td>\n",
       "      <td>2772.325234</td>\n",
       "      <td>2.498115</td>\n",
       "    </tr>\n",
       "  </tbody>\n",
       "</table>\n",
       "<p>207 rows × 3 columns</p>\n",
       "</div>"
      ],
      "text/plain": [
       "Year                                1990          2001  Percent_Change\n",
       "Country                                                               \n",
       "Africa Eastern and Southern  3037.297466   2928.062946       -3.596438\n",
       "Africa Western and Central   2788.301039   2734.257633       -1.938220\n",
       "Albania                      4827.027705   6441.440698       33.445281\n",
       "Algeria                      8828.874473   8926.110134        1.101337\n",
       "Angola                       5793.084512   4768.008894      -17.694816\n",
       "...                                  ...           ...             ...\n",
       "Vanuatu                      2774.138350   2782.053642        0.285324\n",
       "Viet Nam                     2099.394649   3879.338958       84.783693\n",
       "World                        9705.981267  11221.662910       15.615955\n",
       "Zambia                       2290.039226   2142.787524       -6.430095\n",
       "Zimbabwe                     2704.757299   2772.325234        2.498115\n",
       "\n",
       "[207 rows x 3 columns]"
      ]
     },
     "execution_count": 24,
     "metadata": {},
     "output_type": "execute_result"
    }
   ],
   "source": [
    "gdp_pivoted['Percent_Change'] = 100*(gdp_pivoted[2001] - gdp_pivoted[1990]) / gdp_pivoted[1990]"
   ]
  },
  {
   "cell_type": "markdown",
   "id": "b291d128-be8e-45ae-8b37-e35465368b76",
   "metadata": {},
   "source": [
    "#### Q15. How many countries experienced a negative percent change in GDP per capita from 1990 to 2021?"
   ]
  },
  {
   "cell_type": "code",
   "execution_count": 26,
   "id": "184a260f-da74-4b82-8747-97003b923e1c",
   "metadata": {},
   "outputs": [
    {
     "name": "stdout",
     "output_type": "stream",
     "text": [
      "56 countries experienced a negative percent change in GDP per capita from 1990 to 2001\n"
     ]
    }
   ],
   "source": [
    "print(f'{(gdp_pivoted['Percent_Change'] < 0).sum()} countries experienced a negative percent change in GDP per capita from 1990 to 2001')"
   ]
  },
  {
   "cell_type": "markdown",
   "id": "57237d0b-a997-43d3-8306-dd3878038872",
   "metadata": {},
   "source": [
    "#### Q16. Which country had the highest % change in GDP per capita? Create a line plot showing this country's GDP per capita for all years from 1990 to 2018. Create another showing the country with the second highest % change in GDP. How do the trends in these countries compare?"
   ]
  },
  {
   "cell_type": "code",
   "execution_count": 130,
   "id": "d67f090f-ce43-4946-a269-b73a66d12242",
   "metadata": {},
   "outputs": [
    {
     "data": {
      "text/html": [
       "<div>\n",
       "<style scoped>\n",
       "    .dataframe tbody tr th:only-of-type {\n",
       "        vertical-align: middle;\n",
       "    }\n",
       "\n",
       "    .dataframe tbody tr th {\n",
       "        vertical-align: top;\n",
       "    }\n",
       "\n",
       "    .dataframe thead th {\n",
       "        text-align: right;\n",
       "    }\n",
       "</style>\n",
       "<table border=\"1\" class=\"dataframe\">\n",
       "  <thead>\n",
       "    <tr style=\"text-align: right;\">\n",
       "      <th>Year</th>\n",
       "      <th>1990</th>\n",
       "      <th>2001</th>\n",
       "      <th>Percent_Change</th>\n",
       "    </tr>\n",
       "    <tr>\n",
       "      <th>Country</th>\n",
       "      <th></th>\n",
       "      <th></th>\n",
       "      <th></th>\n",
       "    </tr>\n",
       "  </thead>\n",
       "  <tbody>\n",
       "    <tr>\n",
       "      <th>Equatorial Guinea</th>\n",
       "      <td>936.419751</td>\n",
       "      <td>15389.155994</td>\n",
       "      <td>1543.403611</td>\n",
       "    </tr>\n",
       "    <tr>\n",
       "      <th>China</th>\n",
       "      <td>1423.896348</td>\n",
       "      <td>3712.338132</td>\n",
       "      <td>160.716880</td>\n",
       "    </tr>\n",
       "  </tbody>\n",
       "</table>\n",
       "</div>"
      ],
      "text/plain": [
       "Year                      1990          2001  Percent_Change\n",
       "Country                                                     \n",
       "Equatorial Guinea   936.419751  15389.155994     1543.403611\n",
       "China              1423.896348   3712.338132      160.716880"
      ]
     },
     "execution_count": 130,
     "metadata": {},
     "output_type": "execute_result"
    }
   ],
   "source": [
    "gdp_pivoted.nlargest(2, 'Percent_Change')"
   ]
  },
  {
   "cell_type": "code",
   "execution_count": 124,
   "id": "7a3761d6-0240-49f0-8ee4-43b7083aa353",
   "metadata": {},
   "outputs": [
    {
     "name": "stdout",
     "output_type": "stream",
     "text": [
      "The countries with the highest percent change in GDP per capita are Equatorial Guinea with 1543.403610690951% and China with 160.71687997495076%.\n"
     ]
    }
   ],
   "source": [
    "#just having a bit of dumb fun with f-strings\n",
    "print(f'The countries with the highest percent change in GDP per capita are {gdp_pivoted.nlargest(2, 'Percent_Change').reset_index()['Country'][0]} with {gdp_pivoted.nlargest(2, 'Percent_Change').reset_index()['Percent_Change'][0]}% and {gdp_pivoted.nlargest(2, 'Percent_Change').reset_index()['Country'][1]} with {gdp_pivoted.nlargest(2, 'Percent_Change').reset_index()['Percent_Change'][1]}%.')"
   ]
  },
  {
   "cell_type": "markdown",
   "id": "2f27df16-3358-499b-b338-698ab20a8e3f",
   "metadata": {},
   "source": [
    "EG GDP per capita has a meteoric rise until about 2009, at which point it begins to trends downward; whereas China trends upward more gradually"
   ]
  },
  {
   "cell_type": "markdown",
   "id": "abb90682-ef68-4f2f-a22a-b04ed77f202c",
   "metadata": {},
   "source": [
    "#### Q16 Bonus: Put both line charts on the same plot."
   ]
  },
  {
   "cell_type": "code",
   "execution_count": 211,
   "id": "ef369afe-a1b0-4c36-b4e8-b5c940957bd4",
   "metadata": {},
   "outputs": [
    {
     "data": {
      "image/png": "[encoded data removed]",
      "text/plain": [
       "<Figure size 640x480 with 1 Axes>"
      ]
     },
     "metadata": {},
     "output_type": "display_data"
    }
   ],
   "source": [
    "gdp_top2 = gdp_pivoted.nlargest(2, 'Percent_Change').reset_index()\n",
    "gdp_top2 = gdp_df[gdp_df['Country'].isin(gdp_top2['Country'])]\n",
    "gdp_top2 = gdp_top2[gdp_top2['Year'] < 2019]\n",
    "gdp_top2.pivot(values = \"GDP_Per_Capita\", index = 'Year', columns = 'Country').plot()\n",
    "plt.title('GDP over Time')\n",
    "plt.ylabel('GDP');"
   ]
  },
  {
   "cell_type": "markdown",
   "id": "65a3044d-e1bf-47f2-a044-51bee7e00099",
   "metadata": {},
   "source": [
    "#### Q17. Read in continents.csv contained in the data folder into a new dataframe called continents. We will be using this dataframe to add a new column to our dataset."
   ]
  },
  {
   "cell_type": "code",
   "execution_count": 215,
   "id": "1be65247-45cd-42b4-8ce7-99931e1e61b7",
   "metadata": {},
   "outputs": [],
   "source": [
    "continents = pd.read_csv('../data/continents.csv')"
   ]
  },
  {
   "cell_type": "markdown",
   "id": "563d363d-f0db-4e73-bb3e-1249089aac99",
   "metadata": {},
   "source": [
    "#### Q18. Merge gdp_df and continents. Keep only the countries that appear in both data frames. Save the result back to gdp_df."
   ]
  },
  {
   "cell_type": "code",
   "execution_count": 217,
   "id": "5cf699f2-0942-4d35-a70f-79417d0b367b",
   "metadata": {},
   "outputs": [
    {
     "data": {
      "text/html": [
       "<div>\n",
       "<style scoped>\n",
       "    .dataframe tbody tr th:only-of-type {\n",
       "        vertical-align: middle;\n",
       "    }\n",
       "\n",
       "    .dataframe tbody tr th {\n",
       "        vertical-align: top;\n",
       "    }\n",
       "\n",
       "    .dataframe thead th {\n",
       "        text-align: right;\n",
       "    }\n",
       "</style>\n",
       "<table border=\"1\" class=\"dataframe\">\n",
       "  <thead>\n",
       "    <tr style=\"text-align: right;\">\n",
       "      <th></th>\n",
       "      <th>Country</th>\n",
       "      <th>Year</th>\n",
       "      <th>GDP_Per_Capita</th>\n",
       "      <th>Continent</th>\n",
       "    </tr>\n",
       "  </thead>\n",
       "  <tbody>\n",
       "    <tr>\n",
       "      <th>0</th>\n",
       "      <td>Afghanistan</td>\n",
       "      <td>2021</td>\n",
       "      <td>1517.016266</td>\n",
       "      <td>Asia</td>\n",
       "    </tr>\n",
       "    <tr>\n",
       "      <th>1</th>\n",
       "      <td>Afghanistan</td>\n",
       "      <td>2020</td>\n",
       "      <td>1968.341002</td>\n",
       "      <td>Asia</td>\n",
       "    </tr>\n",
       "    <tr>\n",
       "      <th>2</th>\n",
       "      <td>Afghanistan</td>\n",
       "      <td>2019</td>\n",
       "      <td>2079.921861</td>\n",
       "      <td>Asia</td>\n",
       "    </tr>\n",
       "    <tr>\n",
       "      <th>3</th>\n",
       "      <td>Afghanistan</td>\n",
       "      <td>2018</td>\n",
       "      <td>2060.698973</td>\n",
       "      <td>Asia</td>\n",
       "    </tr>\n",
       "    <tr>\n",
       "      <th>4</th>\n",
       "      <td>Afghanistan</td>\n",
       "      <td>2017</td>\n",
       "      <td>2096.093111</td>\n",
       "      <td>Asia</td>\n",
       "    </tr>\n",
       "    <tr>\n",
       "      <th>...</th>\n",
       "      <td>...</td>\n",
       "      <td>...</td>\n",
       "      <td>...</td>\n",
       "      <td>...</td>\n",
       "    </tr>\n",
       "    <tr>\n",
       "      <th>5888</th>\n",
       "      <td>Zimbabwe</td>\n",
       "      <td>1994</td>\n",
       "      <td>2670.106615</td>\n",
       "      <td>Africa</td>\n",
       "    </tr>\n",
       "    <tr>\n",
       "      <th>5889</th>\n",
       "      <td>Zimbabwe</td>\n",
       "      <td>1993</td>\n",
       "      <td>2458.783255</td>\n",
       "      <td>Africa</td>\n",
       "    </tr>\n",
       "    <tr>\n",
       "      <th>5890</th>\n",
       "      <td>Zimbabwe</td>\n",
       "      <td>1992</td>\n",
       "      <td>2468.278257</td>\n",
       "      <td>Africa</td>\n",
       "    </tr>\n",
       "    <tr>\n",
       "      <th>5891</th>\n",
       "      <td>Zimbabwe</td>\n",
       "      <td>1991</td>\n",
       "      <td>2781.787843</td>\n",
       "      <td>Africa</td>\n",
       "    </tr>\n",
       "    <tr>\n",
       "      <th>5892</th>\n",
       "      <td>Zimbabwe</td>\n",
       "      <td>1990</td>\n",
       "      <td>2704.757299</td>\n",
       "      <td>Africa</td>\n",
       "    </tr>\n",
       "  </tbody>\n",
       "</table>\n",
       "<p>5893 rows × 4 columns</p>\n",
       "</div>"
      ],
      "text/plain": [
       "          Country  Year  GDP_Per_Capita Continent\n",
       "0     Afghanistan  2021     1517.016266      Asia\n",
       "1     Afghanistan  2020     1968.341002      Asia\n",
       "2     Afghanistan  2019     2079.921861      Asia\n",
       "3     Afghanistan  2018     2060.698973      Asia\n",
       "4     Afghanistan  2017     2096.093111      Asia\n",
       "...           ...   ...             ...       ...\n",
       "5888     Zimbabwe  1994     2670.106615    Africa\n",
       "5889     Zimbabwe  1993     2458.783255    Africa\n",
       "5890     Zimbabwe  1992     2468.278257    Africa\n",
       "5891     Zimbabwe  1991     2781.787843    Africa\n",
       "5892     Zimbabwe  1990     2704.757299    Africa\n",
       "\n",
       "[5893 rows x 4 columns]"
      ]
     },
     "execution_count": 217,
     "metadata": {},
     "output_type": "execute_result"
    }
   ],
   "source": [
    "gdp_df = pd.merge(gdp_df, continents, on = 'Country', how = 'inner', validate='many_to_one')"
   ]
  },
  {
   "cell_type": "markdown",
   "id": "39772900-de1c-4ff3-9ea6-17e2f4d57bd6",
   "metadata": {},
   "source": [
    "#### Q19. Determine the number of countries per continent. Create a bar chart showing this."
   ]
  },
  {
   "cell_type": "code",
   "execution_count": 221,
   "id": "04454571-fa0a-4ceb-8fde-afc00812d6c1",
   "metadata": {},
   "outputs": [
    {
     "data": {
      "image/png": "[encoded data removed]",
      "text/plain": [
       "<Figure size 640x480 with 1 Axes>"
      ]
     },
     "metadata": {},
     "output_type": "display_data"
    }
   ],
   "source": [
    "gdp_df.drop_duplicates('Country')['Continent'].value_counts().plot(kind='bar')\n",
    "plt.xticks(rotation=0)\n",
    "plt.title('Number of Countries by Continent');"
   ]
  },
  {
   "cell_type": "markdown",
   "id": "3ee5adb8-679e-49e1-a7c6-9fb7498d4986",
   "metadata": {},
   "source": [
    "#### Q20. Create a seaborn boxplot showing GDP per capita in 2021 split out by continent. What do you notice?"
   ]
  },
  {
   "cell_type": "markdown",
   "id": "c687601c-ac06-4080-9db0-ac129863ed92",
   "metadata": {},
   "source": [
    "Europe and Asia have a lot more variability, and a couple of pretty extreme outliers; Africa, despite having more countries that any other continent has very little variability, and is also at the lower end for GDP per capita"
   ]
  },
  {
   "cell_type": "code",
   "execution_count": 223,
   "id": "d311f1a0-6b1f-41fa-b1d2-3ad549de4a3f",
   "metadata": {},
   "outputs": [
    {
     "data": {
      "image/png": "[encoded data removed]",
      "text/plain": [
       "<Figure size 1000x800 with 1 Axes>"
      ]
     },
     "metadata": {},
     "output_type": "display_data"
    }
   ],
   "source": [
    "plt.figure(figsize = (10,8))\n",
    "sns.boxplot(data = gdp_df.loc[gdp_df['Year'] == 2021].sort_values('Continent'), x = 'GDP_Per_Capita', y ='Continent');"
   ]
  },
  {
   "cell_type": "markdown",
   "id": "e0fd6ca2-36ae-4767-8824-760ad783ca5c",
   "metadata": {},
   "source": [
    "#### Q21. Download the full csv containing Life expectancy at birth, total (years) from https://data.worldbank.org/indicator/SP.DYN.LE00.IN?name_desc=false. Read this data into a DataFrame named life_expectancy. Note: When reading this dataset it, you may encounter an error. Modify your read_csv call to correct this without modifying the original csv file.\r\n"
   ]
  },
  {
   "cell_type": "code",
   "execution_count": 243,
   "id": "0c842583-cfc8-40e5-8c88-e4547058f2fd",
   "metadata": {},
   "outputs": [],
   "source": [
    "#skiprows argument added to skip over 'header' rows that were messing up the parsing of the dataset\n",
    "life_expectancy = pd.read_csv('../data/API_SP.DYN.LE00.IN_DS2_en_csv_v2_31632/API_SP.DYN.LE00.IN_DS2_en_csv_v2_31632.csv', skiprows=4)"
   ]
  },
  {
   "cell_type": "markdown",
   "id": "ddda7361-e8ae-4e69-814f-a0ee22717d71",
   "metadata": {},
   "source": [
    "#### Q22. Drop the Country Code, Indicator Name, and Indicator Code columns. Then use .melt() to convert your data from wide to long. That is, instead of having one row per country and multiple colums per year, we want to have multiple rows per country and a single column for year. After melting, rename the columns to Country, Year, and Life_Expectancy."
   ]
  },
  {
   "cell_type": "code",
   "execution_count": 245,
   "id": "3a520cdb-cb15-47ee-8e94-909480c45cc3",
   "metadata": {},
   "outputs": [],
   "source": [
    "life_expectancy = (\n",
    "    life_expectancy\n",
    "    .drop(columns=['Country Code', 'Indicator Name', 'Indicator Code'])\n",
    "    .melt(id_vars = 'Country Name', var_name = 'Year', value_name = 'Life Expectancy')\n",
    "    .rename(columns={'Country Name': 'Country'})\n",
    ")"
   ]
  },
  {
   "cell_type": "code",
   "execution_count": null,
   "id": "706e684b-a4fd-4679-a8da-e1cc5061a61f",
   "metadata": {},
   "outputs": [],
   "source": [
    "life_expectancy = life_expectancy.dropna()"
   ]
  },
  {
   "cell_type": "markdown",
   "id": "0c98efe9-298d-4c4c-9cdf-0ccdf4a76214",
   "metadata": {},
   "source": [
    "#### Q23. What was the first country with a life expectancy to exceed 80?"
   ]
  },
  {
   "cell_type": "code",
   "execution_count": 297,
   "id": "1b6b357e-3506-4c1c-bd1e-cdd05c5548bd",
   "metadata": {},
   "outputs": [
    {
     "name": "stdout",
     "output_type": "stream",
     "text": [
      "The first country to exceed a life expectancy of 80 was Japan in 1996.\n"
     ]
    }
   ],
   "source": [
    "print(f'The first country to exceed a life expectancy of 80 was {life_expectancy[life_expectancy['Life Expectancy'] >= 80].reset_index()['Country'][0]} in {life_expectancy[life_expectancy['Life Expectancy'] >= 80].reset_index()['Year'][0]}.')"
   ]
  },
  {
   "cell_type": "markdown",
   "id": "b3842fe4-4ae1-462f-a401-1ec69c461118",
   "metadata": {},
   "source": [
    "#### Q24. Merge gdp_df and life_expectancy, keeping all countries and years that appear in both DataFrames. Save the result to a new DataFrame named gdp_le. If you get any errors in doing this, read them carefully and correct them. Look at the first five rows of your new data frame to confirm it merged correctly. Also, check the last five rows to make sure the data is clean and as expected."
   ]
  },
  {
   "cell_type": "code",
   "execution_count": 299,
   "id": "d9e3db18-7292-48a3-9c53-f75463f1ee75",
   "metadata": {},
   "outputs": [
    {
     "name": "stderr",
     "output_type": "stream",
     "text": [
      "C:\\Users\\Maria\\AppData\\Local\\Temp\\ipykernel_6792\\3582797379.py:1: SettingWithCopyWarning: \n",
      "A value is trying to be set on a copy of a slice from a DataFrame.\n",
      "Try using .loc[row_indexer,col_indexer] = value instead\n",
      "\n",
      "See the caveats in the documentation: https://pandas.pydata.org/pandas-docs/stable/user_guide/indexing.html#returning-a-view-versus-a-copy\n",
      "  life_expectancy['Year'] = life_expectancy['Year'].astype(int)\n"
     ]
    },
    {
     "data": {
      "text/html": [
       "<div>\n",
       "<style scoped>\n",
       "    .dataframe tbody tr th:only-of-type {\n",
       "        vertical-align: middle;\n",
       "    }\n",
       "\n",
       "    .dataframe tbody tr th {\n",
       "        vertical-align: top;\n",
       "    }\n",
       "\n",
       "    .dataframe thead th {\n",
       "        text-align: right;\n",
       "    }\n",
       "</style>\n",
       "<table border=\"1\" class=\"dataframe\">\n",
       "  <thead>\n",
       "    <tr style=\"text-align: right;\">\n",
       "      <th></th>\n",
       "      <th>Country</th>\n",
       "      <th>Year</th>\n",
       "      <th>GDP_Per_Capita</th>\n",
       "      <th>Continent</th>\n",
       "      <th>Life Expectancy</th>\n",
       "    </tr>\n",
       "  </thead>\n",
       "  <tbody>\n",
       "    <tr>\n",
       "      <th>0</th>\n",
       "      <td>Afghanistan</td>\n",
       "      <td>2021</td>\n",
       "      <td>1517.016266</td>\n",
       "      <td>Asia</td>\n",
       "      <td>61.982</td>\n",
       "    </tr>\n",
       "    <tr>\n",
       "      <th>1</th>\n",
       "      <td>Afghanistan</td>\n",
       "      <td>2020</td>\n",
       "      <td>1968.341002</td>\n",
       "      <td>Asia</td>\n",
       "      <td>62.575</td>\n",
       "    </tr>\n",
       "    <tr>\n",
       "      <th>2</th>\n",
       "      <td>Afghanistan</td>\n",
       "      <td>2019</td>\n",
       "      <td>2079.921861</td>\n",
       "      <td>Asia</td>\n",
       "      <td>63.565</td>\n",
       "    </tr>\n",
       "    <tr>\n",
       "      <th>3</th>\n",
       "      <td>Afghanistan</td>\n",
       "      <td>2018</td>\n",
       "      <td>2060.698973</td>\n",
       "      <td>Asia</td>\n",
       "      <td>63.081</td>\n",
       "    </tr>\n",
       "    <tr>\n",
       "      <th>4</th>\n",
       "      <td>Afghanistan</td>\n",
       "      <td>2017</td>\n",
       "      <td>2096.093111</td>\n",
       "      <td>Asia</td>\n",
       "      <td>63.016</td>\n",
       "    </tr>\n",
       "    <tr>\n",
       "      <th>...</th>\n",
       "      <td>...</td>\n",
       "      <td>...</td>\n",
       "      <td>...</td>\n",
       "      <td>...</td>\n",
       "      <td>...</td>\n",
       "    </tr>\n",
       "    <tr>\n",
       "      <th>5499</th>\n",
       "      <td>Zimbabwe</td>\n",
       "      <td>1994</td>\n",
       "      <td>2670.106615</td>\n",
       "      <td>Africa</td>\n",
       "      <td>52.588</td>\n",
       "    </tr>\n",
       "    <tr>\n",
       "      <th>5500</th>\n",
       "      <td>Zimbabwe</td>\n",
       "      <td>1993</td>\n",
       "      <td>2458.783255</td>\n",
       "      <td>Africa</td>\n",
       "      <td>54.426</td>\n",
       "    </tr>\n",
       "    <tr>\n",
       "      <th>5501</th>\n",
       "      <td>Zimbabwe</td>\n",
       "      <td>1992</td>\n",
       "      <td>2468.278257</td>\n",
       "      <td>Africa</td>\n",
       "      <td>56.435</td>\n",
       "    </tr>\n",
       "    <tr>\n",
       "      <th>5502</th>\n",
       "      <td>Zimbabwe</td>\n",
       "      <td>1991</td>\n",
       "      <td>2781.787843</td>\n",
       "      <td>Africa</td>\n",
       "      <td>58.091</td>\n",
       "    </tr>\n",
       "    <tr>\n",
       "      <th>5503</th>\n",
       "      <td>Zimbabwe</td>\n",
       "      <td>1990</td>\n",
       "      <td>2704.757299</td>\n",
       "      <td>Africa</td>\n",
       "      <td>59.426</td>\n",
       "    </tr>\n",
       "  </tbody>\n",
       "</table>\n",
       "<p>5504 rows × 5 columns</p>\n",
       "</div>"
      ],
      "text/plain": [
       "          Country  Year  GDP_Per_Capita Continent  Life Expectancy\n",
       "0     Afghanistan  2021     1517.016266      Asia           61.982\n",
       "1     Afghanistan  2020     1968.341002      Asia           62.575\n",
       "2     Afghanistan  2019     2079.921861      Asia           63.565\n",
       "3     Afghanistan  2018     2060.698973      Asia           63.081\n",
       "4     Afghanistan  2017     2096.093111      Asia           63.016\n",
       "...           ...   ...             ...       ...              ...\n",
       "5499     Zimbabwe  1994     2670.106615    Africa           52.588\n",
       "5500     Zimbabwe  1993     2458.783255    Africa           54.426\n",
       "5501     Zimbabwe  1992     2468.278257    Africa           56.435\n",
       "5502     Zimbabwe  1991     2781.787843    Africa           58.091\n",
       "5503     Zimbabwe  1990     2704.757299    Africa           59.426\n",
       "\n",
       "[5504 rows x 5 columns]"
      ]
     },
     "execution_count": 299,
     "metadata": {},
     "output_type": "execute_result"
    }
   ],
   "source": [
    "life_expectancy['Year'] = life_expectancy['Year'].astype(int)\n",
    "gdp_le = pd.merge(gdp_df, life_expectancy, on = ['Country', 'Year'] , how = 'inner', validate='one_to_one')"
   ]
  },
  {
   "cell_type": "markdown",
   "id": "827582a0-0c4c-4c24-a595-ea8ce853bde5",
   "metadata": {},
   "source": [
    "#### Q25. Create a new DataFrame, named gdp_le_2021 by extracting data for the year 2021 from gdp_le. How many countries have a life expectancy of at least 80 in 2021?"
   ]
  },
  {
   "cell_type": "markdown",
   "id": "572d4abc-0425-43f8-ae63-17727ffa340b",
   "metadata": {},
   "source": [
    "31"
   ]
  },
  {
   "cell_type": "code",
   "execution_count": 301,
   "id": "a9065dc7-fa7d-4b93-a425-de82ec2bea25",
   "metadata": {
    "scrolled": true
   },
   "outputs": [
    {
     "data": {
      "text/html": [
       "<div>\n",
       "<style scoped>\n",
       "    .dataframe tbody tr th:only-of-type {\n",
       "        vertical-align: middle;\n",
       "    }\n",
       "\n",
       "    .dataframe tbody tr th {\n",
       "        vertical-align: top;\n",
       "    }\n",
       "\n",
       "    .dataframe thead th {\n",
       "        text-align: right;\n",
       "    }\n",
       "</style>\n",
       "<table border=\"1\" class=\"dataframe\">\n",
       "  <thead>\n",
       "    <tr style=\"text-align: right;\">\n",
       "      <th></th>\n",
       "      <th>Country</th>\n",
       "      <th>Year</th>\n",
       "      <th>GDP_Per_Capita</th>\n",
       "      <th>Continent</th>\n",
       "      <th>Life Expectancy</th>\n",
       "    </tr>\n",
       "  </thead>\n",
       "  <tbody>\n",
       "    <tr>\n",
       "      <th>0</th>\n",
       "      <td>Afghanistan</td>\n",
       "      <td>2021</td>\n",
       "      <td>1517.016266</td>\n",
       "      <td>Asia</td>\n",
       "      <td>61.982</td>\n",
       "    </tr>\n",
       "    <tr>\n",
       "      <th>21</th>\n",
       "      <td>Albania</td>\n",
       "      <td>2021</td>\n",
       "      <td>14595.944386</td>\n",
       "      <td>Europe</td>\n",
       "      <td>76.463</td>\n",
       "    </tr>\n",
       "    <tr>\n",
       "      <th>54</th>\n",
       "      <td>Algeria</td>\n",
       "      <td>2021</td>\n",
       "      <td>11029.138782</td>\n",
       "      <td>Africa</td>\n",
       "      <td>76.377</td>\n",
       "    </tr>\n",
       "    <tr>\n",
       "      <th>87</th>\n",
       "      <td>Angola</td>\n",
       "      <td>2021</td>\n",
       "      <td>5911.835657</td>\n",
       "      <td>Africa</td>\n",
       "      <td>61.643</td>\n",
       "    </tr>\n",
       "    <tr>\n",
       "      <th>120</th>\n",
       "      <td>Antigua and Barbuda</td>\n",
       "      <td>2021</td>\n",
       "      <td>19899.882425</td>\n",
       "      <td>North America</td>\n",
       "      <td>78.497</td>\n",
       "    </tr>\n",
       "    <tr>\n",
       "      <th>...</th>\n",
       "      <td>...</td>\n",
       "      <td>...</td>\n",
       "      <td>...</td>\n",
       "      <td>...</td>\n",
       "      <td>...</td>\n",
       "    </tr>\n",
       "    <tr>\n",
       "      <th>5344</th>\n",
       "      <td>Uzbekistan</td>\n",
       "      <td>2021</td>\n",
       "      <td>7800.501501</td>\n",
       "      <td>Asia</td>\n",
       "      <td>70.862</td>\n",
       "    </tr>\n",
       "    <tr>\n",
       "      <th>5377</th>\n",
       "      <td>Vanuatu</td>\n",
       "      <td>2021</td>\n",
       "      <td>2800.493866</td>\n",
       "      <td>Oceania</td>\n",
       "      <td>70.449</td>\n",
       "    </tr>\n",
       "    <tr>\n",
       "      <th>5410</th>\n",
       "      <td>West Bank and Gaza</td>\n",
       "      <td>2021</td>\n",
       "      <td>5641.044400</td>\n",
       "      <td>Asia</td>\n",
       "      <td>73.473</td>\n",
       "    </tr>\n",
       "    <tr>\n",
       "      <th>5439</th>\n",
       "      <td>Zambia</td>\n",
       "      <td>2021</td>\n",
       "      <td>3236.788981</td>\n",
       "      <td>Africa</td>\n",
       "      <td>61.223</td>\n",
       "    </tr>\n",
       "    <tr>\n",
       "      <th>5472</th>\n",
       "      <td>Zimbabwe</td>\n",
       "      <td>2021</td>\n",
       "      <td>2115.144555</td>\n",
       "      <td>Africa</td>\n",
       "      <td>59.253</td>\n",
       "    </tr>\n",
       "  </tbody>\n",
       "</table>\n",
       "<p>173 rows × 5 columns</p>\n",
       "</div>"
      ],
      "text/plain": [
       "                  Country  Year  GDP_Per_Capita      Continent  \\\n",
       "0             Afghanistan  2021     1517.016266           Asia   \n",
       "21                Albania  2021    14595.944386         Europe   \n",
       "54                Algeria  2021    11029.138782         Africa   \n",
       "87                 Angola  2021     5911.835657         Africa   \n",
       "120   Antigua and Barbuda  2021    19899.882425  North America   \n",
       "...                   ...   ...             ...            ...   \n",
       "5344           Uzbekistan  2021     7800.501501           Asia   \n",
       "5377              Vanuatu  2021     2800.493866        Oceania   \n",
       "5410   West Bank and Gaza  2021     5641.044400           Asia   \n",
       "5439               Zambia  2021     3236.788981         Africa   \n",
       "5472             Zimbabwe  2021     2115.144555         Africa   \n",
       "\n",
       "      Life Expectancy  \n",
       "0              61.982  \n",
       "21             76.463  \n",
       "54             76.377  \n",
       "87             61.643  \n",
       "120            78.497  \n",
       "...               ...  \n",
       "5344           70.862  \n",
       "5377           70.449  \n",
       "5410           73.473  \n",
       "5439           61.223  \n",
       "5472           59.253  \n",
       "\n",
       "[173 rows x 5 columns]"
      ]
     },
     "execution_count": 301,
     "metadata": {},
     "output_type": "execute_result"
    }
   ],
   "source": [
    "gdp_le_2021 = gdp_le[gdp_le['Year'] == 2021]"
   ]
  },
  {
   "cell_type": "code",
   "execution_count": 303,
   "id": "bc0408f6-628b-4ae6-b1a4-a4f60c393685",
   "metadata": {},
   "outputs": [
    {
     "name": "stdout",
     "output_type": "stream",
     "text": [
      "31 countries have a life expectancy of at least 80 in 2021.\n"
     ]
    }
   ],
   "source": [
    "print(f'{(gdp_le_2021['Life Expectancy'] >=80).sum()} countries have a life expectancy of at least 80 in 2021.')"
   ]
  },
  {
   "cell_type": "markdown",
   "id": "47ffe29d-e821-4505-83d1-68afb8cfb014",
   "metadata": {},
   "source": [
    "#### Q26. Find the countries that had the top 3 largest GDP per capita figures for 2021. Create a seaborn FacetGrid showing the change in life expectancy over time for these three countries. Each individual figure in the facet grid will represent a single country."
   ]
  },
  {
   "cell_type": "code",
   "execution_count": 307,
   "id": "0cd6ba70-88d1-40b1-973e-b6a194b34bbd",
   "metadata": {},
   "outputs": [
    {
     "data": {
      "text/plain": [
       "<seaborn.axisgrid.FacetGrid at 0x23c5d657770>"
      ]
     },
     "execution_count": 307,
     "metadata": {},
     "output_type": "execute_result"
    },
    {
     "data": {
      "image/png": "[encoded data removed]",
      "text/plain": [
       "<Figure size 1500x500 with 3 Axes>"
      ]
     },
     "metadata": {},
     "output_type": "display_data"
    }
   ],
   "source": [
    "top_3_gdp = gdp_le_2021.nlargest(3, 'GDP_Per_Capita')['Country']\n",
    "sns.relplot(\n",
    "    data = gdp_le[gdp_le['Country'].isin(top_3_gdp)], x='Year', y='Life Expectancy',\n",
    "    col='Country',\n",
    "    kind='line'\n",
    ")"
   ]
  },
  {
   "cell_type": "markdown",
   "id": "14faaf14-20c5-4b6d-b61a-139501c325d8",
   "metadata": {},
   "source": [
    "#### Q27. Create a scatter plot of Life Expectancy vs GDP per Capita for the year 2021. What do you notice?"
   ]
  },
  {
   "cell_type": "markdown",
   "id": "cef7266d-4cfd-4357-b0af-6e5ff7348ab6",
   "metadata": {},
   "source": [
    "It appears that there is a positive correlation between life expectancy and GDP per capita, so as one increases, so does the other.\n",
    "But it would also appear that if one were to draw a line, it would be more curved than straight, looking more like an exponential/logarithmic function?"
   ]
  },
  {
   "cell_type": "code",
   "execution_count": 309,
   "id": "a5553d04-1f1c-48a7-9553-4a448a458ad7",
   "metadata": {},
   "outputs": [
    {
     "data": {
      "image/png": "[encoded data removed]",
      "text/plain": [
       "<Figure size 640x480 with 1 Axes>"
      ]
     },
     "metadata": {},
     "output_type": "display_data"
    }
   ],
   "source": [
    "gdp_le_2021.plot(\n",
    "    kind=\"scatter\",\n",
    "    y=\"Life Expectancy\",\n",
    "    x=\"GDP_Per_Capita\"\n",
    ");"
   ]
  },
  {
   "cell_type": "markdown",
   "id": "27fc1eb6-53a3-4478-9581-556f14152bcd",
   "metadata": {},
   "source": [
    "#### Q28. Find the correlation between Life Expectancy and GDP per Capita for the year 2021. What is the meaning of this number?"
   ]
  },
  {
   "cell_type": "markdown",
   "id": "e0710b32-5528-461c-a610-e6a1dd462064",
   "metadata": {},
   "source": [
    "Corr coeff = 0.745; this would suggest that there is a fairly strong relationship between the two variables (i.e. how likely knowing one can help us predict the other)"
   ]
  },
  {
   "cell_type": "code",
   "execution_count": 311,
   "id": "8898e870-2f2b-4468-a69d-395d37e3c848",
   "metadata": {},
   "outputs": [
    {
     "data": {
      "text/html": [
       "<div>\n",
       "<style scoped>\n",
       "    .dataframe tbody tr th:only-of-type {\n",
       "        vertical-align: middle;\n",
       "    }\n",
       "\n",
       "    .dataframe tbody tr th {\n",
       "        vertical-align: top;\n",
       "    }\n",
       "\n",
       "    .dataframe thead th {\n",
       "        text-align: right;\n",
       "    }\n",
       "</style>\n",
       "<table border=\"1\" class=\"dataframe\">\n",
       "  <thead>\n",
       "    <tr style=\"text-align: right;\">\n",
       "      <th></th>\n",
       "      <th>Life Expectancy</th>\n",
       "      <th>GDP_Per_Capita</th>\n",
       "    </tr>\n",
       "  </thead>\n",
       "  <tbody>\n",
       "    <tr>\n",
       "      <th>Life Expectancy</th>\n",
       "      <td>1.000000</td>\n",
       "      <td>0.745081</td>\n",
       "    </tr>\n",
       "    <tr>\n",
       "      <th>GDP_Per_Capita</th>\n",
       "      <td>0.745081</td>\n",
       "      <td>1.000000</td>\n",
       "    </tr>\n",
       "  </tbody>\n",
       "</table>\n",
       "</div>"
      ],
      "text/plain": [
       "                 Life Expectancy  GDP_Per_Capita\n",
       "Life Expectancy         1.000000        0.745081\n",
       "GDP_Per_Capita          0.745081        1.000000"
      ]
     },
     "execution_count": 311,
     "metadata": {},
     "output_type": "execute_result"
    }
   ],
   "source": [
    "gdp_le_2021[['Life Expectancy', 'GDP_Per_Capita']].corr()"
   ]
  },
  {
   "cell_type": "markdown",
   "id": "43c4fee6-6bfa-4a17-9040-0d74514e3a18",
   "metadata": {},
   "source": [
    "#### Q29. Add a column to gdp_le_2021 and calculate the logarithm of GDP per capita. Find the correlation between the log of GDP per capita and life expectancy. How does this compare to the calculation in the previous part? Look at a scatter plot to see if the result of this calculation makes sense."
   ]
  },
  {
   "cell_type": "markdown",
   "id": "9dae34df-027e-4dfc-b433-d3ac6a4aad81",
   "metadata": {},
   "source": [
    "The scatterplot looks far more linear after using the Log10 values for GDP per capita."
   ]
  },
  {
   "cell_type": "code",
   "execution_count": 313,
   "id": "b3f93a8b-0a0f-4486-9566-c21d433e6bba",
   "metadata": {},
   "outputs": [
    {
     "name": "stderr",
     "output_type": "stream",
     "text": [
      "C:\\Users\\Maria\\AppData\\Local\\Temp\\ipykernel_6792\\2089150054.py:1: SettingWithCopyWarning: \n",
      "A value is trying to be set on a copy of a slice from a DataFrame.\n",
      "Try using .loc[row_indexer,col_indexer] = value instead\n",
      "\n",
      "See the caveats in the documentation: https://pandas.pydata.org/pandas-docs/stable/user_guide/indexing.html#returning-a-view-versus-a-copy\n",
      "  gdp_le_2021['Log10 GDP_Per_Capita'] = np.log10(gdp_le_2021['GDP_Per_Capita'])\n"
     ]
    }
   ],
   "source": [
    "gdp_le_2021['Log10 GDP_Per_Capita'] = np.log10(gdp_le_2021['GDP_Per_Capita'])"
   ]
  },
  {
   "cell_type": "code",
   "execution_count": 315,
   "id": "2e4b551e-9cde-4e56-8a30-d2f9b5584427",
   "metadata": {},
   "outputs": [
    {
     "data": {
      "image/png": "[encoded data removed]",
      "text/plain": [
       "<Figure size 640x480 with 1 Axes>"
      ]
     },
     "metadata": {},
     "output_type": "display_data"
    }
   ],
   "source": [
    "gdp_le_2021.plot(\n",
    "    kind=\"scatter\",\n",
    "    y=\"Life Expectancy\",\n",
    "    x=\"Log10 GDP_Per_Capita\"\n",
    ");"
   ]
  }
 ],
 "metadata": {
  "kernelspec": {
   "display_name": "Python 3 (ipykernel)",
   "language": "python",
   "name": "python3"
  },
  "language_info": {
   "codemirror_mode": {
    "name": "ipython",
    "version": 3
   },
   "file_extension": ".py",
   "mimetype": "text/x-python",
   "name": "python",
   "nbconvert_exporter": "python",
   "pygments_lexer": "ipython3",
   "version": "3.12.4"
  }
 },
 "nbformat": 4,
 "nbformat_minor": 5
}
